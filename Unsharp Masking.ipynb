{
 "cells": [
  {
   "cell_type": "markdown",
   "metadata": {},
   "source": [
    "https://juejin.cn/post/6844904199285637127#comment"
   ]
  },
  {
   "cell_type": "code",
   "execution_count": 7,
   "metadata": {},
   "outputs": [],
   "source": [
    "import numpy as np\n",
    "import cv2\n",
    "\n",
    "I = cv2.imread('./data/submarine.bmp')\n",
    "\n",
    "sigma = 3\n",
    "kernel_size = (0,0)\n",
    "L = cv2.GaussianBlur(I, kernel_size, sigma)\n",
    "H = cv2.subtract(I, L)\n",
    "\n",
    "a = 1.5\n",
    "\n",
    "#addWeighted可以用于两个图像的带权相加,第一个参数是图像1,第二个参数是图像1的权值alpha,第三个参数是图像2,第4个参数是图像2的权值beta,新图像的结果可表示为dst(I)=saturate(src1(I)∗alpha+src2(I)∗beta+gamma)。\n",
    "#alpha和beta的关系并不要求二者的和为1\n",
    "O = cv2.addWeighted(I, 1, H, a, 0)  \n",
    "\n",
    "cv2.imshow('I', I)\n",
    "cv2.imshow('L', L)\n",
    "cv2.imshow('H', H)\n",
    "cv2.imshow('O', O)\n",
    "while(cv2.waitKey(0) == 27):\n",
    "    cv2.destroyAllWindows()\n",
    "    break"
   ]
  }
 ],
 "metadata": {
  "kernelspec": {
   "display_name": "Python 3.10.6 ('torch1.12.1_cpu')",
   "language": "python",
   "name": "python3"
  },
  "language_info": {
   "codemirror_mode": {
    "name": "ipython",
    "version": 3
   },
   "file_extension": ".py",
   "mimetype": "text/x-python",
   "name": "python",
   "nbconvert_exporter": "python",
   "pygments_lexer": "ipython3",
   "version": "3.10.6"
  },
  "orig_nbformat": 4,
  "vscode": {
   "interpreter": {
    "hash": "9d5507be2d68268e91a6210239d2d464aff060d46d83db9432adefda4622ecf0"
   }
  }
 },
 "nbformat": 4,
 "nbformat_minor": 2
}
