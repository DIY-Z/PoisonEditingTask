{
 "cells": [
  {
   "cell_type": "markdown",
   "metadata": {},
   "source": [
    "https://learnopencv.com/seamless-cloning-using-opencv-python-cpp/"
   ]
  },
  {
   "cell_type": "code",
   "execution_count": 20,
   "metadata": {},
   "outputs": [],
   "source": [
    "import cv2\n",
    "import numpy as np\n",
    "\n",
    "src = cv2.imread('airplane.jpg')  #(165, 256, 3) \n",
    "dst = cv2.imread('sky.jpg')  #(574, 1024, 3)\n",
    "\n",
    "# Create a rough mask around the airplane.\n",
    "src_mask = np.zeros(src.shape, src.dtype)\n",
    "# poly = np.array([ [3,81], [30,54], [151,63], [254,37], [298,90], [272,134], [43,122] ], np.int32)\n",
    "poly = np.array([[0,0],[0,165],[256,165],[256,0]], np.int32)\n",
    "cv2.fillPoly(src_mask, [poly], (255, 255, 255))\n",
    "\n",
    "cv2.imwrite('./airplane_mask.jpg', src_mask)\n",
    "\n",
    "cv2.imshow('src', src)\n",
    "cv2.imshow('src_mask', src_mask)\n",
    "# This is where the CENTER of the airplane will be placed\n",
    "center = (800,100)\n",
    " \n",
    "# Clone seamlessly.\n",
    "output = cv2.seamlessClone(src, dst, src_mask, center, cv2.NORMAL_CLONE)\n",
    "\n",
    "cv2.imshow('output',output)\n",
    "while(cv2.waitKey(0) == 27):\n",
    "    cv2.destroyAllWindows()\n",
    "    break\n",
    "\n"
   ]
  }
 ],
 "metadata": {
  "kernelspec": {
   "display_name": "Python 3.10.6 ('torch1.12.1_cpu')",
   "language": "python",
   "name": "python3"
  },
  "language_info": {
   "codemirror_mode": {
    "name": "ipython",
    "version": 3
   },
   "file_extension": ".py",
   "mimetype": "text/x-python",
   "name": "python",
   "nbconvert_exporter": "python",
   "pygments_lexer": "ipython3",
   "version": "3.10.6"
  },
  "orig_nbformat": 4,
  "vscode": {
   "interpreter": {
    "hash": "9d5507be2d68268e91a6210239d2d464aff060d46d83db9432adefda4622ecf0"
   }
  }
 },
 "nbformat": 4,
 "nbformat_minor": 2
}
