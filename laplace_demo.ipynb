{
 "cells": [
  {
   "cell_type": "markdown",
   "metadata": {},
   "source": [
    "Use the OpenCV function Laplacian() to implement a discrete analog of the Laplacian operator.\n",
    "<br>\n",
    "其实下面这些都是空域滤波,并不是频域滤波\n",
    "<br>\n",
    "https://docs.opencv.org/3.4/d5/db5/tutorial_laplace_operator.html"
   ]
  },
  {
   "cell_type": "code",
   "execution_count": 1,
   "metadata": {},
   "outputs": [],
   "source": [
    "import cv2\n",
    "import numpy as np\n",
    "\n",
    "\n",
    "src = cv2.imread('./data/submarine.bmp')\n",
    "\n",
    "#减少噪声\n",
    "src = cv2.GaussianBlur(src, (3, 3), 0)\n",
    "\n",
    "dst_b = np.zeros_like(src)\n",
    "dst_g = np.zeros_like(src)\n",
    "dst_r = np.zeros_like(src)\n",
    "\n",
    "\n",
    "\n",
    "#Laplacian\n",
    "dst_b = cv2.Laplacian(src[:,:,0], cv2.CV_16S, ksize=3)\n",
    "dst_g = cv2.Laplacian(src[:,:,1], cv2.CV_16S, ksize=3)\n",
    "dst_r = cv2.Laplacian(src[:,:,2], cv2.CV_16S, ksize=3)\n",
    "\n",
    "#convert to uint8\n",
    "abs_dst_b = cv2.convertScaleAbs(dst_b)\n",
    "abs_dst_g = cv2.convertScaleAbs(dst_g)\n",
    "abs_dst_r = cv2.convertScaleAbs(dst_r)\n",
    "\n",
    "\n",
    "cv2.imshow('laplacian b', abs_dst_b)\n",
    "cv2.imshow('laplacian g', abs_dst_g)\n",
    "cv2.imshow('laplacian r', abs_dst_r)\n",
    "while cv2.waitKey(0) == 27:\n",
    "    cv2.destroyAllWindows()\n",
    "    break"
   ]
  },
  {
   "cell_type": "markdown",
   "metadata": {},
   "source": [
    "Gaussian Blurring\n",
    "<br>\n",
    "https://docs.opencv.org/4.x/d4/d13/tutorial_py_filtering.html"
   ]
  },
  {
   "cell_type": "code",
   "execution_count": 2,
   "metadata": {},
   "outputs": [
    {
     "name": "stdout",
     "output_type": "stream",
     "text": [
      "(307, 375, 3)\n"
     ]
    }
   ],
   "source": [
    "import cv2\n",
    "\n",
    "img = cv2.imread('./data/fish.bmp')\n",
    "blur = cv2.GaussianBlur(img, (5, 5), 0)\n",
    "\n",
    "print(blur.shape)\n",
    "\n",
    "\n",
    "# cv2.imshow('Gaussion blur', blur)\n",
    "# while cv2.waitKey(0) == 27:\n",
    "#     cv2.destroyAllWindows()\n",
    "#     break\n"
   ]
  },
  {
   "cell_type": "code",
   "execution_count": 3,
   "metadata": {},
   "outputs": [],
   "source": [
    "import numpy as np\n",
    "mix = np.zeros_like(blur)\n",
    "\n",
    "\n",
    "mix[:,:,0] = blur[:,:,0] + abs_dst_b\n",
    "mix[:,:,1] = blur[:,:,1] + abs_dst_g\n",
    "mix[:,:,2] = blur[:,:,2] + abs_dst_r\n",
    "\n",
    "\n",
    "abs_mix = mix.astype(np.uint8)\n",
    "\n",
    "abs_mix = cv2.cvtColor(abs_mix, cv2.COLOR_BGR2GRAY)\n",
    "cv2.imshow('mix', abs_mix)\n",
    "while(cv2.waitKey(0) == 27):\n",
    "    cv2.destroyAllWindows()\n",
    "    break"
   ]
  }
 ],
 "metadata": {
  "kernelspec": {
   "display_name": "Python 3.10.6 ('torch1.12.1_cpu')",
   "language": "python",
   "name": "python3"
  },
  "language_info": {
   "codemirror_mode": {
    "name": "ipython",
    "version": 3
   },
   "file_extension": ".py",
   "mimetype": "text/x-python",
   "name": "python",
   "nbconvert_exporter": "python",
   "pygments_lexer": "ipython3",
   "version": "3.10.6"
  },
  "orig_nbformat": 4,
  "vscode": {
   "interpreter": {
    "hash": "9d5507be2d68268e91a6210239d2d464aff060d46d83db9432adefda4622ecf0"
   }
  }
 },
 "nbformat": 4,
 "nbformat_minor": 2
}
